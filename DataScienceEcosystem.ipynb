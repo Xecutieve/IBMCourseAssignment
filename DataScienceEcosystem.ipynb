{
 "cells": [
  {
   "cell_type": "markdown",
   "id": "fc64ac5e",
   "metadata": {},
   "source": [
    "# Data Science Tools and Ecosystem\n"
   ]
  },
  {
   "cell_type": "markdown",
   "id": "707c0c26",
   "metadata": {},
   "source": [
    "In this notebook, Data Science Tools and Ecosystem are summarized."
   ]
  },
  {
   "cell_type": "markdown",
   "id": "db1da4b1",
   "metadata": {},
   "source": [
    "Some of the popular languages that Data Scientists use are:\n",
    "<ol>\n",
    "    <p>1.R</p>\n",
    "    <p>2.Python</p>\n",
    "    <p>3.Scala</p>\n",
    "    <p>4.Julia</p>\n",
    "</ol>"
   ]
  },
  {
   "cell_type": "markdown",
   "id": "1eca4116",
   "metadata": {},
   "source": [
    "Some of the commonly used libraries used by Data Scientists include:\n",
    "<ol>\n",
    "  <p>1.Pandas</p>\n",
    "  <p>2.PyTorch</p>\n",
    "  <p>3.Matplotlib</p>\n",
    "</ol>"
   ]
  },
  {
   "cell_type": "markdown",
   "id": "8711fdf4",
   "metadata": {},
   "source": [
    "Data Science Tools\n",
    "<ol>\n",
    "  <p>1.Tableu</p>\n",
    "  <p>2.IBM Watson Studio</p>\n",
    "  <p>3.Anaconda</p>\n",
    "</ol>"
   ]
  },
  {
   "cell_type": "markdown",
   "id": "70706c1a",
   "metadata": {},
   "source": [
    "### Below are a few examples of evaluating arithmetic expressions in Python"
   ]
  },
  {
   "cell_type": "code",
   "execution_count": 1,
   "id": "c81dd0fd",
   "metadata": {},
   "outputs": [
    {
     "data": {
      "text/plain": [
       "17"
      ]
     },
     "execution_count": 1,
     "metadata": {},
     "output_type": "execute_result"
    }
   ],
   "source": [
    "# This a simple arithmetic expression to mutiply then add integers\n",
    "(3*4)+5"
   ]
  },
  {
   "cell_type": "code",
   "execution_count": 2,
   "id": "e7dd98e5",
   "metadata": {},
   "outputs": [
    {
     "data": {
      "text/plain": [
       "3.3333333333333335"
      ]
     },
     "execution_count": 2,
     "metadata": {},
     "output_type": "execute_result"
    }
   ],
   "source": [
    "# This will convert 200 minutes to hours by diving by 60\n",
    "(200/60)"
   ]
  },
  {
   "cell_type": "markdown",
   "id": "90401570",
   "metadata": {},
   "source": [
    "<b>Objectives:</b>"
   ]
  },
  {
   "cell_type": "markdown",
   "id": "ebbccd0d",
   "metadata": {},
   "source": [
    "<ul>\n",
    "    <li>Popular Data Science Languages</li>\n",
    "    <li>Commonly Used Libraries</li>\n",
    "    <li>Data Science Tools</li>\n",
    "    <li>Evaluating Arithmetic Expressions In Python</li>\n",
    "</ul>"
   ]
  },
  {
   "cell_type": "markdown",
   "id": "d2c6e5e7",
   "metadata": {},
   "source": [
    "## Author\n",
    "Görkem "
   ]
  },
  {
   "cell_type": "code",
   "execution_count": null,
   "id": "2d103b1c",
   "metadata": {},
   "outputs": [],
   "source": []
  }
 ],
 "metadata": {
  "kernelspec": {
   "display_name": "Python 3 (ipykernel)",
   "language": "python",
   "name": "python3"
  },
  "language_info": {
   "codemirror_mode": {
    "name": "ipython",
    "version": 3
   },
   "file_extension": ".py",
   "mimetype": "text/x-python",
   "name": "python",
   "nbconvert_exporter": "python",
   "pygments_lexer": "ipython3",
   "version": "3.9.12"
  }
 },
 "nbformat": 4,
 "nbformat_minor": 5
}
